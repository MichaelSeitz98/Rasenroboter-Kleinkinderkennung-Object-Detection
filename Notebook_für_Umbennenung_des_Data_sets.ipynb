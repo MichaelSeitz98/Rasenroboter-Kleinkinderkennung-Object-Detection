{
  "nbformat": 4,
  "nbformat_minor": 0,
  "metadata": {
    "colab": {
      "provenance": [],
      "collapsed_sections": [],
      "authorship_tag": "ABX9TyPm77tq1yiu6iyME5DIVnNF",
      "include_colab_link": true
    },
    "kernelspec": {
      "name": "python3",
      "display_name": "Python 3"
    },
    "language_info": {
      "name": "python"
    }
  },
  "cells": [
    {
      "cell_type": "markdown",
      "metadata": {
        "id": "view-in-github",
        "colab_type": "text"
      },
      "source": [
        "<a href=\"https://colab.research.google.com/github/MichaelSeitz98/Seminararbeit/blob/main/Notebook_f%C3%BCr_Umbennenung_des_Data_sets.ipynb\" target=\"_parent\"><img src=\"https://colab.research.google.com/assets/colab-badge.svg\" alt=\"Open In Colab\"/></a>"
      ]
    },
    {
      "cell_type": "code",
      "source": [
        "# Meine GoogleDrive mounten\n",
        "\n",
        "from google.colab import drive\n",
        "drive.mount('/content/drive')"
      ],
      "metadata": {
        "colab": {
          "base_uri": "https://localhost:8080/"
        },
        "id": "WER-ZmyCa7d8",
        "outputId": "b09d9455-d248-412f-e806-0a8583e273ac"
      },
      "execution_count": null,
      "outputs": [
        {
          "output_type": "stream",
          "name": "stdout",
          "text": [
            "Mounted at /content/drive\n"
          ]
        }
      ]
    },
    {
      "cell_type": "code",
      "execution_count": null,
      "metadata": {
        "id": "xn6bO-mua2_9"
      },
      "outputs": [],
      "source": [
        "from PIL import Image\n",
        "import glob\n",
        "\n",
        "counter = 0;\n",
        "for image_path in glob.glob('/content/drive/MyDrive/Bilder_POOL/*'):\n",
        "  counter = counter+1\n",
        "  im = Image.open(image_path)\n",
        "  im.save(f'/content/drive/MyDrive/Bilder_POOL/image_{counter}.jpeg')"
      ]
    }
  ]
}