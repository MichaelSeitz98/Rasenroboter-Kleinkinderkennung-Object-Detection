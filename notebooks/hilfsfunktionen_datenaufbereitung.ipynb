{
  "cells": [
    {
      "cell_type": "markdown",
      "metadata": {
        "colab_type": "text",
        "id": "view-in-github"
      },
      "source": [
        "<a href=\"https://colab.research.google.com/github/MichaelSeitz98/Seminararbeit_Kleinkinderkennung/blob/main/Datenaufbereitung_Hilfsfunktionen.ipynb\" target=\"_parent\"><img src=\"https://colab.research.google.com/assets/colab-badge.svg\" alt=\"Open In Colab\"/></a>"
      ]
    },
    {
      "cell_type": "code",
      "execution_count": null,
      "metadata": {
        "colab": {
          "base_uri": "https://localhost:8080/"
        },
        "id": "WER-ZmyCa7d8",
        "outputId": "7480e7fa-4e00-40bd-ad11-e06c6af0c418"
      },
      "outputs": [
        {
          "name": "stdout",
          "output_type": "stream",
          "text": [
            "Mounted at /content/drive\n"
          ]
        }
      ],
      "source": [
        "# Mount Google Drive\n",
        "\n",
        "from google.colab import drive\n",
        "drive.mount('/content/drive')"
      ]
    },
    {
      "cell_type": "code",
      "execution_count": null,
      "metadata": {
        "colab": {
          "base_uri": "https://localhost:8080/"
        },
        "id": "TEpNw0CQOaW5",
        "outputId": "ac736aaa-299a-4e8d-d967-005c9d4f0037"
      },
      "outputs": [
        {
          "name": "stdout",
          "output_type": "stream",
          "text": [
            "saved here:/content/drive/MyDrive/DS2_POOLG_80_20_20_1024px/test \n",
            "saved here:/content/drive/MyDrive/DS2_POOLG_80_20_20_1024px/test \n",
            "saved here:/content/drive/MyDrive/DS2_POOLG_80_20_20_1024px/test \n",
            "saved here:/content/drive/MyDrive/DS2_POOLG_80_20_20_1024px/test \n",
            "saved here:/content/drive/MyDrive/DS2_POOLG_80_20_20_1024px/test \n",
            "saved here:/content/drive/MyDrive/DS2_POOLG_80_20_20_1024px/test \n",
            "saved here:/content/drive/MyDrive/DS2_POOLG_80_20_20_1024px/test \n",
            "saved here:/content/drive/MyDrive/DS2_POOLG_80_20_20_1024px/test \n",
            "saved here:/content/drive/MyDrive/DS2_POOLG_80_20_20_1024px/test \n",
            "saved here:/content/drive/MyDrive/DS2_POOLG_80_20_20_1024px/test \n",
            "saved here:/content/drive/MyDrive/DS2_POOLG_80_20_20_1024px/test \n",
            "saved here:/content/drive/MyDrive/DS2_POOLG_80_20_20_1024px/test \n",
            "saved here:/content/drive/MyDrive/DS2_POOLG_80_20_20_1024px/test \n",
            "saved here:/content/drive/MyDrive/DS2_POOLG_80_20_20_1024px/test \n",
            "saved here:/content/drive/MyDrive/DS2_POOLG_80_20_20_1024px/test \n",
            "saved here:/content/drive/MyDrive/DS2_POOLG_80_20_20_1024px/test \n",
            "saved here:/content/drive/MyDrive/DS2_POOLG_80_20_20_1024px/test \n",
            "saved here:/content/drive/MyDrive/DS2_POOLG_80_20_20_1024px/test \n",
            "saved here:/content/drive/MyDrive/DS2_POOLG_80_20_20_1024px/test \n",
            "saved here:/content/drive/MyDrive/DS2_POOLG_80_20_20_1024px/test \n",
            "saved here:/content/drive/MyDrive/DS2_POOLG_80_20_20_1024px/test \n",
            "saved here:/content/drive/MyDrive/DS2_POOLG_80_20_20_1024px/test \n",
            "saved here:/content/drive/MyDrive/DS2_POOLG_80_20_20_1024px/test \n",
            "saved here:/content/drive/MyDrive/DS2_POOLG_80_20_20_1024px/test \n",
            "saved here:/content/drive/MyDrive/DS2_POOLG_80_20_20_1024px/test \n",
            "saved here:/content/drive/MyDrive/DS2_POOLG_80_20_20_1024px/test \n",
            "saved here:/content/drive/MyDrive/DS2_POOLG_80_20_20_1024px/test \n",
            "saved here:/content/drive/MyDrive/DS2_POOLG_80_20_20_1024px/test \n",
            "saved here:/content/drive/MyDrive/DS2_POOLG_80_20_20_1024px/test \n",
            "saved here:/content/drive/MyDrive/DS2_POOLG_80_20_20_1024px/test \n",
            "saved here:/content/drive/MyDrive/DS2_POOLG_80_20_20_1024px/test \n",
            "saved here:/content/drive/MyDrive/DS2_POOLG_80_20_20_1024px/test \n",
            "saved here:/content/drive/MyDrive/DS2_POOLG_80_20_20_1024px/test \n",
            "saved here:/content/drive/MyDrive/DS2_POOLG_80_20_20_1024px/test \n",
            "saved here:/content/drive/MyDrive/DS2_POOLG_80_20_20_1024px/test \n",
            "saved here:/content/drive/MyDrive/DS2_POOLG_80_20_20_1024px/test \n",
            "saved here:/content/drive/MyDrive/DS2_POOLG_80_20_20_1024px/test \n",
            "saved here:/content/drive/MyDrive/DS2_POOLG_80_20_20_1024px/test \n",
            "saved here:/content/drive/MyDrive/DS2_POOLG_80_20_20_1024px/test \n",
            "saved here:/content/drive/MyDrive/DS2_POOLG_80_20_20_1024px/test \n",
            "saved here:/content/drive/MyDrive/DS2_POOLG_80_20_20_1024px/test \n",
            "saved here:/content/drive/MyDrive/DS2_POOLG_80_20_20_1024px/test \n",
            "saved here:/content/drive/MyDrive/DS2_POOLG_80_20_20_1024px/test \n",
            "saved here:/content/drive/MyDrive/DS2_POOLG_80_20_20_1024px/test \n",
            "saved here:/content/drive/MyDrive/DS2_POOLG_80_20_20_1024px/test \n",
            "saved here:/content/drive/MyDrive/DS2_POOLG_80_20_20_1024px/test \n",
            "saved here:/content/drive/MyDrive/DS2_POOLG_80_20_20_1024px/test \n",
            "saved here:/content/drive/MyDrive/DS2_POOLG_80_20_20_1024px/test \n",
            "saved here:/content/drive/MyDrive/DS2_POOLG_80_20_20_1024px/test \n",
            "saved here:/content/drive/MyDrive/DS2_POOLG_80_20_20_1024px/test \n",
            "saved here:/content/drive/MyDrive/DS2_POOLG_80_20_20_1024px/test \n",
            "saved here:/content/drive/MyDrive/DS2_POOLG_80_20_20_1024px/test \n",
            "saved here:/content/drive/MyDrive/DS2_POOLG_80_20_20_1024px/test \n",
            "saved here:/content/drive/MyDrive/DS2_POOLG_80_20_20_1024px/test \n",
            "saved here:/content/drive/MyDrive/DS2_POOLG_80_20_20_1024px/test \n",
            "saved here:/content/drive/MyDrive/DS2_POOLG_80_20_20_1024px/test \n",
            "saved here:/content/drive/MyDrive/DS2_POOLG_80_20_20_1024px/test \n",
            "saved here:/content/drive/MyDrive/DS2_POOLG_80_20_20_1024px/test \n",
            "saved here:/content/drive/MyDrive/DS2_POOLG_80_20_20_1024px/test \n",
            "saved here:/content/drive/MyDrive/DS2_POOLG_80_20_20_1024px/test \n",
            "saved here:/content/drive/MyDrive/DS2_POOLG_80_20_20_1024px/test \n",
            "saved here:/content/drive/MyDrive/DS2_POOLG_80_20_20_1024px/test \n",
            "saved here:/content/drive/MyDrive/DS2_POOLG_80_20_20_1024px/test \n",
            "saved here:/content/drive/MyDrive/DS2_POOLG_80_20_20_1024px/test \n",
            "saved here:/content/drive/MyDrive/DS2_POOLG_80_20_20_1024px/test \n",
            "saved here:/content/drive/MyDrive/DS2_POOLG_80_20_20_1024px/test \n",
            "saved here:/content/drive/MyDrive/DS2_POOLG_80_20_20_1024px/test \n",
            "saved here:/content/drive/MyDrive/DS2_POOLG_80_20_20_1024px/test \n",
            "saved here:/content/drive/MyDrive/DS2_POOLG_80_20_20_1024px/test \n",
            "saved here:/content/drive/MyDrive/DS2_POOLG_80_20_20_1024px/test \n",
            "saved here:/content/drive/MyDrive/DS2_POOLG_80_20_20_1024px/test \n",
            "saved here:/content/drive/MyDrive/DS2_POOLG_80_20_20_1024px/test \n",
            "saved here:/content/drive/MyDrive/DS2_POOLG_80_20_20_1024px/test \n",
            "saved here:/content/drive/MyDrive/DS2_POOLG_80_20_20_1024px/test \n",
            "saved here:/content/drive/MyDrive/DS2_POOLG_80_20_20_1024px/test \n",
            "saved here:/content/drive/MyDrive/DS2_POOLG_80_20_20_1024px/test \n",
            "saved here:/content/drive/MyDrive/DS2_POOLG_80_20_20_1024px/test \n",
            "saved here:/content/drive/MyDrive/DS2_POOLG_80_20_20_1024px/test \n",
            "saved here:/content/drive/MyDrive/DS2_POOLG_80_20_20_1024px/test \n",
            "saved here:/content/drive/MyDrive/DS2_POOLG_80_20_20_1024px/test \n",
            "saved here:/content/drive/MyDrive/DS2_POOLG_80_20_20_1024px/test \n",
            "saved here:/content/drive/MyDrive/DS2_POOLG_80_20_20_1024px/test \n",
            "saved here:/content/drive/MyDrive/DS2_POOLG_80_20_20_1024px/test \n",
            "saved here:/content/drive/MyDrive/DS2_POOLG_80_20_20_1024px/test \n",
            "saved here:/content/drive/MyDrive/DS2_POOLG_80_20_20_1024px/test \n",
            "saved here:/content/drive/MyDrive/DS2_POOLG_80_20_20_1024px/test \n",
            "saved here:/content/drive/MyDrive/DS2_POOLG_80_20_20_1024px/test \n",
            "saved here:/content/drive/MyDrive/DS2_POOLG_80_20_20_1024px/test \n",
            "saved here:/content/drive/MyDrive/DS2_POOLG_80_20_20_1024px/test \n",
            "saved here:/content/drive/MyDrive/DS2_POOLG_80_20_20_1024px/test \n",
            "saved here:/content/drive/MyDrive/DS2_POOLG_80_20_20_1024px/test \n",
            "saved here:/content/drive/MyDrive/DS2_POOLG_80_20_20_1024px/test \n",
            "saved here:/content/drive/MyDrive/DS2_POOLG_80_20_20_1024px/test \n",
            "saved here:/content/drive/MyDrive/DS2_POOLG_80_20_20_1024px/test \n",
            "saved here:/content/drive/MyDrive/DS2_POOLG_80_20_20_1024px/test \n",
            "saved here:/content/drive/MyDrive/DS2_POOLG_80_20_20_1024px/test \n",
            "saved here:/content/drive/MyDrive/DS2_POOLG_80_20_20_1024px/test \n",
            "saved here:/content/drive/MyDrive/DS2_POOLG_80_20_20_1024px/test \n",
            "saved here:/content/drive/MyDrive/DS2_POOLG_80_20_20_1024px/test \n",
            "saved here:/content/drive/MyDrive/DS2_POOLG_80_20_20_1024px/test \n",
            "saved here:/content/drive/MyDrive/DS2_POOLG_80_20_20_1024px/test \n",
            "saved here:/content/drive/MyDrive/DS2_POOLG_80_20_20_1024px/test \n",
            "saved here:/content/drive/MyDrive/DS2_POOLG_80_20_20_1024px/test \n",
            "saved here:/content/drive/MyDrive/DS2_POOLG_80_20_20_1024px/test \n",
            "saved here:/content/drive/MyDrive/DS2_POOLG_80_20_20_1024px/test \n",
            "saved here:/content/drive/MyDrive/DS2_POOLG_80_20_20_1024px/test \n",
            "saved here:/content/drive/MyDrive/DS2_POOLG_80_20_20_1024px/test \n",
            "saved here:/content/drive/MyDrive/DS2_POOLG_80_20_20_1024px/test \n",
            "saved here:/content/drive/MyDrive/DS2_POOLG_80_20_20_1024px/test \n",
            "saved here:/content/drive/MyDrive/DS2_POOLG_80_20_20_1024px/test \n",
            "saved here:/content/drive/MyDrive/DS2_POOLG_80_20_20_1024px/test \n",
            "saved here:/content/drive/MyDrive/DS2_POOLG_80_20_20_1024px/test \n",
            "saved here:/content/drive/MyDrive/DS2_POOLG_80_20_20_1024px/test \n",
            "saved here:/content/drive/MyDrive/DS2_POOLG_80_20_20_1024px/test \n",
            "saved here:/content/drive/MyDrive/DS2_POOLG_80_20_20_1024px/test \n",
            "saved here:/content/drive/MyDrive/DS2_POOLG_80_20_20_1024px/test \n",
            "saved here:/content/drive/MyDrive/DS2_POOLG_80_20_20_1024px/test \n",
            "saved here:/content/drive/MyDrive/DS2_POOLG_80_20_20_1024px/test \n",
            "saved here:/content/drive/MyDrive/DS2_POOLG_80_20_20_1024px/test \n",
            "saved here:/content/drive/MyDrive/DS2_POOLG_80_20_20_1024px/test \n",
            "saved here:/content/drive/MyDrive/DS2_POOLG_80_20_20_1024px/test \n",
            "saved here:/content/drive/MyDrive/DS2_POOLG_80_20_20_1024px/test \n",
            "saved here:/content/drive/MyDrive/DS2_POOLG_80_20_20_1024px/test \n",
            "saved here:/content/drive/MyDrive/DS2_POOLG_80_20_20_1024px/test \n",
            "saved here:/content/drive/MyDrive/DS2_POOLG_80_20_20_1024px/test \n",
            "saved here:/content/drive/MyDrive/DS2_POOLG_80_20_20_1024px/test \n",
            "saved here:/content/drive/MyDrive/DS2_POOLG_80_20_20_1024px/test \n",
            "saved here:/content/drive/MyDrive/DS2_POOLG_80_20_20_1024px/test \n",
            "saved here:/content/drive/MyDrive/DS2_POOLG_80_20_20_1024px/test \n",
            "saved here:/content/drive/MyDrive/DS2_POOLG_80_20_20_1024px/test \n"
          ]
        }
      ],
      "source": [
        "import glob\n",
        "import PIL \n",
        "from PIL import Image\n",
        "\n",
        "counter = 0\n",
        "outfile = '/content/drive/MyDrive/DS2_POOLG_80_20_20_1024px/test'\n",
        "%mkdir {outfile}\n",
        "for infile in glob.glob( '/content/drive/MyDrive/DS2_POOLG_80_20_20/test/*.jpg'):\n",
        "  counter = counter +1\n",
        "  image = Image.open(infile)\n",
        "  image.thumbnail((1024,1024), Image.ANTIALIAS)\n",
        "  image.save(f'{outfile}/image{counter}.jpg')\n",
        "  print (f'saved here:{outfile} ')"
      ]
    },
    {
      "cell_type": "code",
      "execution_count": null,
      "metadata": {
        "colab": {
          "base_uri": "https://localhost:8080/"
        },
        "id": "e4y8obgBed3N",
        "outputId": "873f69a0-6eed-4d6e-9edc-165725e2111f"
      },
      "outputs": [
        {
          "name": "stdout",
          "output_type": "stream",
          "text": [
            "Looking in indexes: https://pypi.org/simple, https://us-python.pkg.dev/colab-wheels/public/simple/\n",
            "Requirement already satisfied: Pillow==9.0.0 in /usr/local/lib/python3.7/dist-packages (9.0.0)\n"
          ]
        }
      ],
      "source": [
        "!pip install Pillow==9.0.0"
      ]
    },
    {
      "cell_type": "code",
      "execution_count": null,
      "metadata": {
        "id": "1JovIy--giFz"
      },
      "outputs": [],
      "source": [
        "from PIL import Image\n",
        "import glob\n",
        "import os, sys\n",
        "\n",
        "basewidth = 300\n",
        "\n",
        "for infile in glob.glob( '/content/drive/MyDrive/SemAr_Archiv_Backup/Child_Dataset_Test_2_Klassen/train/*.jpg'):\n",
        "    img = Image.open(infile)\n",
        "    wpercent = (basewidth/float(img.size[0]))\n",
        "    hsize = int((float(img.size[1])*float(wpercent)))\n",
        "    img = img.resize((basewidth,hsize), Image.Resampling.LANCZOS)\n",
        "    img.save('somepic.jpg')"
      ]
    },
    {
      "cell_type": "code",
      "execution_count": null,
      "metadata": {
        "id": "lYdBoEjNOOV6"
      },
      "outputs": [],
      "source": [
        "# Renaming the images\n",
        "\n",
        "import os\n",
        "\n",
        "counter = 0;\n",
        "for image_path in glob.glob('/content/drive/MyDrive/DS2_POOLG_80_20_20/validation/*.jpg'):\n",
        "  if image_path != '/content/drive/MyDrive/Bilder_POOL_GROSS/umbenannt':\n",
        "      print(\"Hallo\")\n",
        "      counter = counter+1\n",
        "      print(f'Counter: {counter} Image_path: {image_path}')\n",
        "      os.rename(image_path, f'/content/drive/MyDrive/Bilder_POOL_GROSS/umbenannt/image_{counter}.jpg')\n",
        "      print(f'umbenannt unter image_path: /content/drive/MyDrive/Bilder_POOL_GROSS/umbenannt/image_{counter}.jpg')\n",
        "print(f'{counter} Bilder umbenannt')"
      ]
    },
    {
      "cell_type": "code",
      "execution_count": null,
      "metadata": {
        "id": "Q0jwkjZfcD7I"
      },
      "outputs": [],
      "source": [
        "import os, sys\n",
        "import glob\n",
        "from PIL import Image\n",
        "from pathlib import Path\n",
        "\n",
        "size = 640, 640\n",
        "\n",
        "data_dir = '/content/drive/MyDrive/SemAr_Archiv_Backup/Child_Dataset_Test_2_Klassen/train'\n",
        "print (data_dir)\n",
        "for infile in glob.glob( '/content/drive/MyDrive/SemAr_Archiv_Backup/Child_Dataset_Test_2_Klassen/train/*.jpg'):\n",
        "    print(infile)\n",
        "    #outfile = os.path.splitext(infile)[0] + \".thumbnail\"\n",
        "    outfile = 'tester.jpg'\n",
        "    if infile != outfile:\n",
        "        try:\n",
        "            im = Image.open(infile)\n",
        "            im.thumbnail(size, Image.Resampling.LANCZOS)\n",
        "            im.save(outfile, \"jpg\")\n",
        "        except IOError:\n",
        "            print (f'cannot create thumbnail for {infile}')"
      ]
    },
    {
      "cell_type": "code",
      "execution_count": null,
      "metadata": {
        "id": "XWMx8DV6dGQW"
      },
      "outputs": [],
      "source": [
        "import os, sys\n",
        "import Image\n",
        "\n",
        "size = 640, 640\n",
        "\n",
        "for infile in sys.argv[1:]:\n",
        "    outfile = os.path.splitext(infile)[0] + \".thumbnail\"\n",
        "    if infile != outfile:\n",
        "        try:\n",
        "            im = Image.open(infile)\n",
        "            im.thumbnail(size, Image.Resampling.LANCZOS)\n",
        "            im.save(outfile, \"JPEG\")\n",
        "        except IOError:\n",
        "            print \"cannot create thumbnail for '%s'\" % infile"
      ]
    },
    {
      "cell_type": "code",
      "execution_count": null,
      "metadata": {
        "id": "G-rI19FDEgBH"
      },
      "outputs": [],
      "source": [
        "from pathlib import Path\n",
        "import imghdr\n",
        "\n",
        "data_dir = '/content/drive/MyDrive/Child_Dataset_Test_2_Klassen/train'\n",
        "image_extensions = [\".png\", \".jpg\",\".jpeg\"]  # add there all your images file extensions\n",
        "\n",
        "img_type_accepted_by_tf = [\"bmp\", \"gif\", \"jpeg\", \"png\"]\n",
        "for filepath in Path(data_dir).rglob(\"*\"):\n",
        "    if filepath.suffix.lower() in image_extensions:\n",
        "        img_type = imghdr.what(filepath)\n",
        "        if img_type is None:\n",
        "            print(f\"{filepath} is not an image\")\n",
        "        elif img_type not in img_type_accepted_by_tf:\n",
        "            print(f\"{filepath} is a {img_type}, not accepted by TensorFlow\")"
      ]
    },
    {
      "cell_type": "code",
      "execution_count": null,
      "metadata": {
        "id": "iHknp8i6wX9X"
      },
      "outputs": [],
      "source": [
        "from PIL import Image\n",
        "import glob\n",
        "import os \n",
        " \n",
        "im = Image.open('/content/drive/MyDrive/Child_Dataset_Test_2_Klassen/train/image_361.jpg')\n",
        "im.save('/content/drive/MyDrive/Child_Dataset_Test_2_Klassen/train/image_361.jpg')"
      ]
    },
    {
      "cell_type": "code",
      "execution_count": null,
      "metadata": {
        "id": "xn6bO-mua2_9"
      },
      "outputs": [],
      "source": [
        "from PIL import Image\n",
        "import glob\n",
        "import os\n",
        "\n",
        "counter = 0;\n",
        "for image_path in glob.glob('/content/drive/MyDrive/Child_Dataset_Test_2_Klassen/train/*.jpg*'):\n",
        "  counter = counter+1\n",
        "  print(f'Counter: {counter} Image_path: {image_path}')\n",
        "  im = Image.open(image_path)\n",
        "  im.save(image_path)\n",
        "  print(f'Gespeichert unter image_path: {image_path}')\n",
        "  \n",
        "print(f'{counter} Bilder umbenannt')"
      ]
    },
    {
      "cell_type": "code",
      "execution_count": null,
      "metadata": {
        "id": "2mIppmfizGWq"
      },
      "outputs": [],
      "source": [
        "# Helper für Datenvisualisierungen\n",
        "\n",
        "import pandas as pd\n",
        "import matplotlib.pyplot as plt\n",
        "\n",
        "# reading the database\n",
        "schwellenwerte = [0.1,0.2,0.3,0.4,0.5,0.6,0.7,0.8,0.9,1.0]\n",
        "recall_kind = [1,1,0.8,0.7,0.4,0.3,0.1,0,0,0]\n",
        "precision_kind = [0,0.2,0.6,0.8,0.85,0.95,1,1,1,1]\n",
        "\n",
        "# precision_igel = [1,1,0.9,0.9,0.9,0.8,0.7,0.5,0.3,0.3]\n",
        "# precision_igel = [1,1,0.9,0.9,0.9,0.8,0.7,0.5,0.3,0.3]\n",
        "\n",
        "line_prec_kind = plt.plot(schwellenwerte, precision_kind, label = \"Precision Kind\", color=\"black\")\n",
        "line_rec_kind = plt.plot(schwellenwerte, recall_kind, label = \"Recall Kind\")\n",
        "#line_f1_score = plt(schwellenwerte, (2*(precision_kind*recall_kind)/(precision_kind+recall_kind)), label =\"F1-Score Kind\")\n",
        "\n",
        "# Scatter plot with day against tip\n",
        "#plt.scatter(data['day'], data['tip'])\n",
        " \n",
        "# Adding Title to the Plot\n",
        "plt.title(\"Precision in Abhängigkeit des Schwellenwertes\")\n",
        " \n",
        "# Setting the X and Y labels\n",
        "\n",
        "plt.xlabel('Schwellenwert')\n",
        "plt.ylabel('Precision')\n",
        "plt.legend()\n",
        "\n",
        "\n",
        "plt.show()\n",
        "plt.savefig('Precision_Kind_Igel_Plot.png')"
      ]
    },
    {
      "cell_type": "code",
      "execution_count": null,
      "metadata": {
        "id": "_Twb_t9QeBDt"
      },
      "outputs": [],
      "source": [
        "from pandas._libs.algos import diff_2d\n",
        "import pandas as pd\n",
        "import matplotlib.pyplot as plt\n",
        "\n",
        "\n",
        "# Read the CSV into a pandas data frame (df)\n",
        "#   With a df you can do many things\n",
        "#   most important: visualize data with Seaborn\n",
        "df = pd.read_csv('/content/drive/MyDrive/Auswahl_aller_Modelle.csv', sep=';')\n",
        "\n",
        "print(df)\n",
        "plot = df.plot.scatter(x='Speed (ms)', y='COCO mAP', label='Model name')"
      ]
    }
  ],
  "metadata": {
    "colab": {
      "authorship_tag": "ABX9TyOEeC02iQmUCLYS5wbk9PBD",
      "include_colab_link": true,
      "provenance": []
    },
    "kernelspec": {
      "display_name": "Python 3.8.5 64-bit",
      "language": "python",
      "name": "python3"
    },
    "language_info": {
      "name": "python",
      "version": "3.8.5"
    },
    "vscode": {
      "interpreter": {
        "hash": "684e43cc1e83511fd33211d8d27c6e3a5e512c908c18c12e90a79baa740b01c0"
      }
    }
  },
  "nbformat": 4,
  "nbformat_minor": 0
}
